{
 "cells": [
  {
   "cell_type": "markdown",
   "id": "bb020604",
   "metadata": {},
   "source": [
    "# About Dataset\n",
    "## Content\n",
    "### This is a dataset of Twitter stock prices over a range of 9 years. The stock prices' date ranges from November 2013 to October 2022. The data is in CSV format which is tabular and can be loaded quickly.\n",
    "\n",
    "# Usage\n",
    "## The dataset can be used for:\n",
    "\n",
    "### Time Series Analysis of the stock prices\n",
    "### Forecasting whether the stock will go into an uptrend or downtrend\n",
    "### Finding underlying patterns or trends\n",
    "### Any other application that you can think of. Feel free to discuss!\n",
    "\n",
    "# Column Description\n",
    "## There are 7 columns in this dataset.\n",
    "### Note: The currency is in USD\n",
    "\n",
    "### Date: The date for which the stock data is considered.\n",
    "### Open: The stock's opening price on that day.\n",
    "### High: The stock's highest price on that day.\n",
    "### Low: The stock's lowest price on that day.\n",
    "### Close: The stock's closing price on that day. The close price is adjusted for splits.\n",
    "### Adj Close: Adjusted close price adjusted for splits and dividend and/or capital gain distributions.\n",
    "### Volume: Volume measures the number of shares traded in a stock or contracts traded in futures or options.\n"
   ]
  },
  {
   "cell_type": "code",
   "execution_count": 1,
   "id": "6e9ac51e",
   "metadata": {},
   "outputs": [],
   "source": [
    "import pandas as pd\n",
    "import numpy as np\n",
    "import warnings\n",
    "warnings.filterwarnings(\"ignore\")\n",
    "import matplotlib.pyplot as plt\n",
    "import seaborn as sns"
   ]
  },
  {
   "cell_type": "code",
   "execution_count": 2,
   "id": "eda98f18",
   "metadata": {},
   "outputs": [],
   "source": [
    "df= pd.read_csv('twitter-stocks.csv', na_values=['@','#','$','!','&','^'])"
   ]
  },
  {
   "cell_type": "code",
   "execution_count": 3,
   "id": "a8118e58",
   "metadata": {},
   "outputs": [
    {
     "data": {
      "text/html": [
       "<div>\n",
       "<style scoped>\n",
       "    .dataframe tbody tr th:only-of-type {\n",
       "        vertical-align: middle;\n",
       "    }\n",
       "\n",
       "    .dataframe tbody tr th {\n",
       "        vertical-align: top;\n",
       "    }\n",
       "\n",
       "    .dataframe thead th {\n",
       "        text-align: right;\n",
       "    }\n",
       "</style>\n",
       "<table border=\"1\" class=\"dataframe\">\n",
       "  <thead>\n",
       "    <tr style=\"text-align: right;\">\n",
       "      <th></th>\n",
       "      <th>Date</th>\n",
       "      <th>Open</th>\n",
       "      <th>High</th>\n",
       "      <th>Low</th>\n",
       "      <th>Close</th>\n",
       "      <th>Adj Close</th>\n",
       "      <th>Volume</th>\n",
       "    </tr>\n",
       "  </thead>\n",
       "  <tbody>\n",
       "    <tr>\n",
       "      <th>0</th>\n",
       "      <td>2013-11-07</td>\n",
       "      <td>45.099998</td>\n",
       "      <td>50.090000</td>\n",
       "      <td>44.000000</td>\n",
       "      <td>44.900002</td>\n",
       "      <td>44.900002</td>\n",
       "      <td>117701670.0</td>\n",
       "    </tr>\n",
       "    <tr>\n",
       "      <th>1</th>\n",
       "      <td>2013-11-08</td>\n",
       "      <td>45.930000</td>\n",
       "      <td>46.939999</td>\n",
       "      <td>40.685001</td>\n",
       "      <td>41.650002</td>\n",
       "      <td>41.650002</td>\n",
       "      <td>27925307.0</td>\n",
       "    </tr>\n",
       "    <tr>\n",
       "      <th>2</th>\n",
       "      <td>2013-11-11</td>\n",
       "      <td>40.500000</td>\n",
       "      <td>43.000000</td>\n",
       "      <td>39.400002</td>\n",
       "      <td>42.900002</td>\n",
       "      <td>42.900002</td>\n",
       "      <td>16113941.0</td>\n",
       "    </tr>\n",
       "    <tr>\n",
       "      <th>3</th>\n",
       "      <td>2013-11-12</td>\n",
       "      <td>43.660000</td>\n",
       "      <td>43.779999</td>\n",
       "      <td>41.830002</td>\n",
       "      <td>41.900002</td>\n",
       "      <td>41.900002</td>\n",
       "      <td>6316755.0</td>\n",
       "    </tr>\n",
       "    <tr>\n",
       "      <th>4</th>\n",
       "      <td>2013-11-13</td>\n",
       "      <td>41.029999</td>\n",
       "      <td>42.869999</td>\n",
       "      <td>40.759998</td>\n",
       "      <td>42.599998</td>\n",
       "      <td>42.599998</td>\n",
       "      <td>8688325.0</td>\n",
       "    </tr>\n",
       "  </tbody>\n",
       "</table>\n",
       "</div>"
      ],
      "text/plain": [
       "         Date       Open       High        Low      Close  Adj Close  \\\n",
       "0  2013-11-07  45.099998  50.090000  44.000000  44.900002  44.900002   \n",
       "1  2013-11-08  45.930000  46.939999  40.685001  41.650002  41.650002   \n",
       "2  2013-11-11  40.500000  43.000000  39.400002  42.900002  42.900002   \n",
       "3  2013-11-12  43.660000  43.779999  41.830002  41.900002  41.900002   \n",
       "4  2013-11-13  41.029999  42.869999  40.759998  42.599998  42.599998   \n",
       "\n",
       "        Volume  \n",
       "0  117701670.0  \n",
       "1   27925307.0  \n",
       "2   16113941.0  \n",
       "3    6316755.0  \n",
       "4    8688325.0  "
      ]
     },
     "execution_count": 3,
     "metadata": {},
     "output_type": "execute_result"
    }
   ],
   "source": [
    "df.head()"
   ]
  },
  {
   "cell_type": "code",
   "execution_count": 4,
   "id": "178c21d4",
   "metadata": {},
   "outputs": [
    {
     "data": {
      "text/html": [
       "<div>\n",
       "<style scoped>\n",
       "    .dataframe tbody tr th:only-of-type {\n",
       "        vertical-align: middle;\n",
       "    }\n",
       "\n",
       "    .dataframe tbody tr th {\n",
       "        vertical-align: top;\n",
       "    }\n",
       "\n",
       "    .dataframe thead th {\n",
       "        text-align: right;\n",
       "    }\n",
       "</style>\n",
       "<table border=\"1\" class=\"dataframe\">\n",
       "  <thead>\n",
       "    <tr style=\"text-align: right;\">\n",
       "      <th></th>\n",
       "      <th>Date</th>\n",
       "      <th>Open</th>\n",
       "      <th>High</th>\n",
       "      <th>Low</th>\n",
       "      <th>Close</th>\n",
       "      <th>Adj Close</th>\n",
       "      <th>Volume</th>\n",
       "    </tr>\n",
       "  </thead>\n",
       "  <tbody>\n",
       "    <tr>\n",
       "      <th>2254</th>\n",
       "      <td>2022-10-21</td>\n",
       "      <td>50.000000</td>\n",
       "      <td>50.750000</td>\n",
       "      <td>49.549999</td>\n",
       "      <td>49.889999</td>\n",
       "      <td>49.889999</td>\n",
       "      <td>51209029.0</td>\n",
       "    </tr>\n",
       "    <tr>\n",
       "      <th>2255</th>\n",
       "      <td>2022-10-24</td>\n",
       "      <td>50.709999</td>\n",
       "      <td>51.860001</td>\n",
       "      <td>50.520000</td>\n",
       "      <td>51.520000</td>\n",
       "      <td>51.520000</td>\n",
       "      <td>22987553.0</td>\n",
       "    </tr>\n",
       "    <tr>\n",
       "      <th>2256</th>\n",
       "      <td>2022-10-25</td>\n",
       "      <td>52.415001</td>\n",
       "      <td>53.180000</td>\n",
       "      <td>52.200001</td>\n",
       "      <td>52.779999</td>\n",
       "      <td>52.779999</td>\n",
       "      <td>35077848.0</td>\n",
       "    </tr>\n",
       "    <tr>\n",
       "      <th>2257</th>\n",
       "      <td>2022-10-26</td>\n",
       "      <td>52.950001</td>\n",
       "      <td>53.500000</td>\n",
       "      <td>52.770000</td>\n",
       "      <td>53.349998</td>\n",
       "      <td>53.349998</td>\n",
       "      <td>28064973.0</td>\n",
       "    </tr>\n",
       "    <tr>\n",
       "      <th>2258</th>\n",
       "      <td>2022-10-27</td>\n",
       "      <td>53.910000</td>\n",
       "      <td>54.000000</td>\n",
       "      <td>53.700001</td>\n",
       "      <td>53.700001</td>\n",
       "      <td>53.700001</td>\n",
       "      <td>136345128.0</td>\n",
       "    </tr>\n",
       "  </tbody>\n",
       "</table>\n",
       "</div>"
      ],
      "text/plain": [
       "            Date       Open       High        Low      Close  Adj Close  \\\n",
       "2254  2022-10-21  50.000000  50.750000  49.549999  49.889999  49.889999   \n",
       "2255  2022-10-24  50.709999  51.860001  50.520000  51.520000  51.520000   \n",
       "2256  2022-10-25  52.415001  53.180000  52.200001  52.779999  52.779999   \n",
       "2257  2022-10-26  52.950001  53.500000  52.770000  53.349998  53.349998   \n",
       "2258  2022-10-27  53.910000  54.000000  53.700001  53.700001  53.700001   \n",
       "\n",
       "           Volume  \n",
       "2254   51209029.0  \n",
       "2255   22987553.0  \n",
       "2256   35077848.0  \n",
       "2257   28064973.0  \n",
       "2258  136345128.0  "
      ]
     },
     "execution_count": 4,
     "metadata": {},
     "output_type": "execute_result"
    }
   ],
   "source": [
    "df.tail()"
   ]
  },
  {
   "cell_type": "code",
   "execution_count": 5,
   "id": "3c970cfa",
   "metadata": {},
   "outputs": [
    {
     "name": "stdout",
     "output_type": "stream",
     "text": [
      "<class 'pandas.core.frame.DataFrame'>\n",
      "RangeIndex: 2259 entries, 0 to 2258\n",
      "Data columns (total 7 columns):\n",
      " #   Column     Non-Null Count  Dtype  \n",
      "---  ------     --------------  -----  \n",
      " 0   Date       2259 non-null   object \n",
      " 1   Open       2259 non-null   float64\n",
      " 2   High       2259 non-null   float64\n",
      " 3   Low        2259 non-null   float64\n",
      " 4   Close      2259 non-null   float64\n",
      " 5   Adj Close  2259 non-null   float64\n",
      " 6   Volume     2259 non-null   float64\n",
      "dtypes: float64(6), object(1)\n",
      "memory usage: 123.7+ KB\n"
     ]
    }
   ],
   "source": [
    "df.info()"
   ]
  },
  {
   "cell_type": "code",
   "execution_count": 6,
   "id": "20e4bede",
   "metadata": {},
   "outputs": [
    {
     "data": {
      "text/html": [
       "<div>\n",
       "<style scoped>\n",
       "    .dataframe tbody tr th:only-of-type {\n",
       "        vertical-align: middle;\n",
       "    }\n",
       "\n",
       "    .dataframe tbody tr th {\n",
       "        vertical-align: top;\n",
       "    }\n",
       "\n",
       "    .dataframe thead th {\n",
       "        text-align: right;\n",
       "    }\n",
       "</style>\n",
       "<table border=\"1\" class=\"dataframe\">\n",
       "  <thead>\n",
       "    <tr style=\"text-align: right;\">\n",
       "      <th></th>\n",
       "      <th>Open</th>\n",
       "      <th>High</th>\n",
       "      <th>Low</th>\n",
       "      <th>Close</th>\n",
       "      <th>Adj Close</th>\n",
       "      <th>Volume</th>\n",
       "    </tr>\n",
       "  </thead>\n",
       "  <tbody>\n",
       "    <tr>\n",
       "      <th>count</th>\n",
       "      <td>2259.000000</td>\n",
       "      <td>2259.000000</td>\n",
       "      <td>2259.000000</td>\n",
       "      <td>2259.000000</td>\n",
       "      <td>2259.000000</td>\n",
       "      <td>2.259000e+03</td>\n",
       "    </tr>\n",
       "    <tr>\n",
       "      <th>mean</th>\n",
       "      <td>36.020286</td>\n",
       "      <td>36.699881</td>\n",
       "      <td>35.339465</td>\n",
       "      <td>36.003625</td>\n",
       "      <td>36.003625</td>\n",
       "      <td>2.175186e+07</td>\n",
       "    </tr>\n",
       "    <tr>\n",
       "      <th>std</th>\n",
       "      <td>14.118463</td>\n",
       "      <td>14.372057</td>\n",
       "      <td>13.828724</td>\n",
       "      <td>14.089989</td>\n",
       "      <td>14.089989</td>\n",
       "      <td>1.909988e+07</td>\n",
       "    </tr>\n",
       "    <tr>\n",
       "      <th>min</th>\n",
       "      <td>13.950000</td>\n",
       "      <td>14.220000</td>\n",
       "      <td>13.725000</td>\n",
       "      <td>14.010000</td>\n",
       "      <td>14.010000</td>\n",
       "      <td>0.000000e+00</td>\n",
       "    </tr>\n",
       "    <tr>\n",
       "      <th>25%</th>\n",
       "      <td>25.550000</td>\n",
       "      <td>26.215001</td>\n",
       "      <td>24.912501</td>\n",
       "      <td>25.410000</td>\n",
       "      <td>25.410000</td>\n",
       "      <td>1.233530e+07</td>\n",
       "    </tr>\n",
       "    <tr>\n",
       "      <th>50%</th>\n",
       "      <td>35.419998</td>\n",
       "      <td>36.099998</td>\n",
       "      <td>34.820000</td>\n",
       "      <td>35.490002</td>\n",
       "      <td>35.490002</td>\n",
       "      <td>1.691305e+07</td>\n",
       "    </tr>\n",
       "    <tr>\n",
       "      <th>75%</th>\n",
       "      <td>44.205000</td>\n",
       "      <td>45.015000</td>\n",
       "      <td>43.327501</td>\n",
       "      <td>44.135000</td>\n",
       "      <td>44.135000</td>\n",
       "      <td>2.428082e+07</td>\n",
       "    </tr>\n",
       "    <tr>\n",
       "      <th>max</th>\n",
       "      <td>78.360001</td>\n",
       "      <td>80.750000</td>\n",
       "      <td>76.050003</td>\n",
       "      <td>77.629997</td>\n",
       "      <td>77.629997</td>\n",
       "      <td>2.692131e+08</td>\n",
       "    </tr>\n",
       "  </tbody>\n",
       "</table>\n",
       "</div>"
      ],
      "text/plain": [
       "              Open         High          Low        Close    Adj Close  \\\n",
       "count  2259.000000  2259.000000  2259.000000  2259.000000  2259.000000   \n",
       "mean     36.020286    36.699881    35.339465    36.003625    36.003625   \n",
       "std      14.118463    14.372057    13.828724    14.089989    14.089989   \n",
       "min      13.950000    14.220000    13.725000    14.010000    14.010000   \n",
       "25%      25.550000    26.215001    24.912501    25.410000    25.410000   \n",
       "50%      35.419998    36.099998    34.820000    35.490002    35.490002   \n",
       "75%      44.205000    45.015000    43.327501    44.135000    44.135000   \n",
       "max      78.360001    80.750000    76.050003    77.629997    77.629997   \n",
       "\n",
       "             Volume  \n",
       "count  2.259000e+03  \n",
       "mean   2.175186e+07  \n",
       "std    1.909988e+07  \n",
       "min    0.000000e+00  \n",
       "25%    1.233530e+07  \n",
       "50%    1.691305e+07  \n",
       "75%    2.428082e+07  \n",
       "max    2.692131e+08  "
      ]
     },
     "execution_count": 6,
     "metadata": {},
     "output_type": "execute_result"
    }
   ],
   "source": [
    "df.describe()"
   ]
  },
  {
   "cell_type": "code",
   "execution_count": 7,
   "id": "82061d29",
   "metadata": {},
   "outputs": [
    {
     "data": {
      "text/plain": [
       "(2259, 7)"
      ]
     },
     "execution_count": 7,
     "metadata": {},
     "output_type": "execute_result"
    }
   ],
   "source": [
    "df.shape"
   ]
  },
  {
   "cell_type": "code",
   "execution_count": 8,
   "id": "de58e9d5",
   "metadata": {},
   "outputs": [
    {
     "data": {
      "text/plain": [
       "0"
      ]
     },
     "execution_count": 8,
     "metadata": {},
     "output_type": "execute_result"
    }
   ],
   "source": [
    "df.isnull().sum().sum()"
   ]
  },
  {
   "cell_type": "code",
   "execution_count": 9,
   "id": "e24da17f",
   "metadata": {},
   "outputs": [
    {
     "data": {
      "text/plain": [
       "[<matplotlib.lines.Line2D at 0x1515c1793a0>]"
      ]
     },
     "execution_count": 9,
     "metadata": {},
     "output_type": "execute_result"
    },
    {
     "data": {
      "image/png": "[encoded data removed]",
      "text/plain": [
       "<Figure size 864x432 with 1 Axes>"
      ]
     },
     "metadata": {
      "needs_background": "light"
     },
     "output_type": "display_data"
    }
   ],
   "source": [
    "sns.set_palette('cividis')\n",
    "plt.figure(figsize=(12,6))\n",
    "plt.plot(df['Close'])"
   ]
  },
  {
   "cell_type": "code",
   "execution_count": 10,
   "id": "05936490",
   "metadata": {},
   "outputs": [],
   "source": [
    "df['Year'] = pd.to_datetime(df['Date']).dt.year\n"
   ]
  },
  {
   "cell_type": "code",
   "execution_count": 11,
   "id": "0420403a",
   "metadata": {},
   "outputs": [
    {
     "data": {
      "text/plain": [
       "<AxesSubplot:xlabel='Year'>"
      ]
     },
     "execution_count": 11,
     "metadata": {},
     "output_type": "execute_result"
    },
    {
     "data": {
      "image/png": "[encoded data removed]",
      "text/plain": [
       "<Figure size 432x288 with 1 Axes>"
      ]
     },
     "metadata": {
      "needs_background": "light"
     },
     "output_type": "display_data"
    }
   ],
   "source": [
    "df.groupby('Year')['Close'].mean().plot()"
   ]
  },
  {
   "cell_type": "code",
   "execution_count": 12,
   "id": "b5936baf",
   "metadata": {},
   "outputs": [
    {
     "data": {
      "text/html": [
       "<div>\n",
       "<style scoped>\n",
       "    .dataframe tbody tr th:only-of-type {\n",
       "        vertical-align: middle;\n",
       "    }\n",
       "\n",
       "    .dataframe tbody tr th {\n",
       "        vertical-align: top;\n",
       "    }\n",
       "\n",
       "    .dataframe thead th {\n",
       "        text-align: right;\n",
       "    }\n",
       "</style>\n",
       "<table border=\"1\" class=\"dataframe\">\n",
       "  <thead>\n",
       "    <tr style=\"text-align: right;\">\n",
       "      <th></th>\n",
       "      <th>Date</th>\n",
       "      <th>Open</th>\n",
       "      <th>High</th>\n",
       "      <th>Low</th>\n",
       "      <th>Close</th>\n",
       "      <th>Adj Close</th>\n",
       "      <th>Volume</th>\n",
       "      <th>Year</th>\n",
       "    </tr>\n",
       "  </thead>\n",
       "  <tbody>\n",
       "    <tr>\n",
       "      <th>0</th>\n",
       "      <td>2013-11-07</td>\n",
       "      <td>45.099998</td>\n",
       "      <td>50.090000</td>\n",
       "      <td>44.000000</td>\n",
       "      <td>44.900002</td>\n",
       "      <td>44.900002</td>\n",
       "      <td>117701670.0</td>\n",
       "      <td>2013</td>\n",
       "    </tr>\n",
       "    <tr>\n",
       "      <th>1</th>\n",
       "      <td>2013-11-08</td>\n",
       "      <td>45.930000</td>\n",
       "      <td>46.939999</td>\n",
       "      <td>40.685001</td>\n",
       "      <td>41.650002</td>\n",
       "      <td>41.650002</td>\n",
       "      <td>27925307.0</td>\n",
       "      <td>2013</td>\n",
       "    </tr>\n",
       "    <tr>\n",
       "      <th>2</th>\n",
       "      <td>2013-11-11</td>\n",
       "      <td>40.500000</td>\n",
       "      <td>43.000000</td>\n",
       "      <td>39.400002</td>\n",
       "      <td>42.900002</td>\n",
       "      <td>42.900002</td>\n",
       "      <td>16113941.0</td>\n",
       "      <td>2013</td>\n",
       "    </tr>\n",
       "    <tr>\n",
       "      <th>3</th>\n",
       "      <td>2013-11-12</td>\n",
       "      <td>43.660000</td>\n",
       "      <td>43.779999</td>\n",
       "      <td>41.830002</td>\n",
       "      <td>41.900002</td>\n",
       "      <td>41.900002</td>\n",
       "      <td>6316755.0</td>\n",
       "      <td>2013</td>\n",
       "    </tr>\n",
       "    <tr>\n",
       "      <th>4</th>\n",
       "      <td>2013-11-13</td>\n",
       "      <td>41.029999</td>\n",
       "      <td>42.869999</td>\n",
       "      <td>40.759998</td>\n",
       "      <td>42.599998</td>\n",
       "      <td>42.599998</td>\n",
       "      <td>8688325.0</td>\n",
       "      <td>2013</td>\n",
       "    </tr>\n",
       "  </tbody>\n",
       "</table>\n",
       "</div>"
      ],
      "text/plain": [
       "         Date       Open       High        Low      Close  Adj Close  \\\n",
       "0  2013-11-07  45.099998  50.090000  44.000000  44.900002  44.900002   \n",
       "1  2013-11-08  45.930000  46.939999  40.685001  41.650002  41.650002   \n",
       "2  2013-11-11  40.500000  43.000000  39.400002  42.900002  42.900002   \n",
       "3  2013-11-12  43.660000  43.779999  41.830002  41.900002  41.900002   \n",
       "4  2013-11-13  41.029999  42.869999  40.759998  42.599998  42.599998   \n",
       "\n",
       "        Volume  Year  \n",
       "0  117701670.0  2013  \n",
       "1   27925307.0  2013  \n",
       "2   16113941.0  2013  \n",
       "3    6316755.0  2013  \n",
       "4    8688325.0  2013  "
      ]
     },
     "execution_count": 12,
     "metadata": {},
     "output_type": "execute_result"
    }
   ],
   "source": [
    "df.head()"
   ]
  },
  {
   "cell_type": "code",
   "execution_count": 13,
   "id": "a897b599",
   "metadata": {},
   "outputs": [],
   "source": [
    "def plot(data,col):\n",
    "    fig,(ax1,ax2)=plt.subplots(2,1)\n",
    "    sns.distplot(data[col],ax=ax1)\n",
    "    sns.boxplot(data[col],ax=ax2)"
   ]
  },
  {
   "cell_type": "code",
   "execution_count": 14,
   "id": "eaf28d96",
   "metadata": {},
   "outputs": [
    {
     "data": {
      "image/png": "[encoded data removed]",
      "text/plain": [
       "<Figure size 432x288 with 2 Axes>"
      ]
     },
     "metadata": {
      "needs_background": "light"
     },
     "output_type": "display_data"
    }
   ],
   "source": [
    "plot(df,'Volume')"
   ]
  },
  {
   "cell_type": "code",
   "execution_count": 15,
   "id": "24bd2a53",
   "metadata": {},
   "outputs": [],
   "source": [
    "df['Volume']=np.where(df['Volume']>=1.5,df['Volume'].median(),df['Volume'])"
   ]
  },
  {
   "cell_type": "code",
   "execution_count": 16,
   "id": "a527ff7f",
   "metadata": {},
   "outputs": [
    {
     "data": {
      "text/plain": [
       "(2259, 8)"
      ]
     },
     "execution_count": 16,
     "metadata": {},
     "output_type": "execute_result"
    }
   ],
   "source": [
    "df.shape"
   ]
  },
  {
   "cell_type": "code",
   "execution_count": 17,
   "id": "69d80d5e",
   "metadata": {},
   "outputs": [
    {
     "data": {
      "text/plain": [
       "Date          object\n",
       "Open         float64\n",
       "High         float64\n",
       "Low          float64\n",
       "Close        float64\n",
       "Adj Close    float64\n",
       "Volume       float64\n",
       "Year           int64\n",
       "dtype: object"
      ]
     },
     "execution_count": 17,
     "metadata": {},
     "output_type": "execute_result"
    }
   ],
   "source": [
    "df.dtypes"
   ]
  },
  {
   "cell_type": "code",
   "execution_count": 18,
   "id": "fa39567e",
   "metadata": {},
   "outputs": [],
   "source": [
    "from sklearn.preprocessing import LabelEncoder\n",
    "labelencoder=LabelEncoder()\n",
    "df['Date']=labelencoder.fit_transform(df['Date'])"
   ]
  },
  {
   "cell_type": "code",
   "execution_count": 19,
   "id": "d56be0b3",
   "metadata": {},
   "outputs": [
    {
     "data": {
      "text/html": [
       "<div>\n",
       "<style scoped>\n",
       "    .dataframe tbody tr th:only-of-type {\n",
       "        vertical-align: middle;\n",
       "    }\n",
       "\n",
       "    .dataframe tbody tr th {\n",
       "        vertical-align: top;\n",
       "    }\n",
       "\n",
       "    .dataframe thead th {\n",
       "        text-align: right;\n",
       "    }\n",
       "</style>\n",
       "<table border=\"1\" class=\"dataframe\">\n",
       "  <thead>\n",
       "    <tr style=\"text-align: right;\">\n",
       "      <th></th>\n",
       "      <th>Date</th>\n",
       "      <th>Open</th>\n",
       "      <th>High</th>\n",
       "      <th>Low</th>\n",
       "      <th>Close</th>\n",
       "      <th>Adj Close</th>\n",
       "      <th>Volume</th>\n",
       "      <th>Year</th>\n",
       "    </tr>\n",
       "  </thead>\n",
       "  <tbody>\n",
       "    <tr>\n",
       "      <th>0</th>\n",
       "      <td>0</td>\n",
       "      <td>45.099998</td>\n",
       "      <td>50.090000</td>\n",
       "      <td>44.000000</td>\n",
       "      <td>44.900002</td>\n",
       "      <td>44.900002</td>\n",
       "      <td>16913051.0</td>\n",
       "      <td>2013</td>\n",
       "    </tr>\n",
       "    <tr>\n",
       "      <th>1</th>\n",
       "      <td>1</td>\n",
       "      <td>45.930000</td>\n",
       "      <td>46.939999</td>\n",
       "      <td>40.685001</td>\n",
       "      <td>41.650002</td>\n",
       "      <td>41.650002</td>\n",
       "      <td>16913051.0</td>\n",
       "      <td>2013</td>\n",
       "    </tr>\n",
       "    <tr>\n",
       "      <th>2</th>\n",
       "      <td>2</td>\n",
       "      <td>40.500000</td>\n",
       "      <td>43.000000</td>\n",
       "      <td>39.400002</td>\n",
       "      <td>42.900002</td>\n",
       "      <td>42.900002</td>\n",
       "      <td>16913051.0</td>\n",
       "      <td>2013</td>\n",
       "    </tr>\n",
       "    <tr>\n",
       "      <th>3</th>\n",
       "      <td>3</td>\n",
       "      <td>43.660000</td>\n",
       "      <td>43.779999</td>\n",
       "      <td>41.830002</td>\n",
       "      <td>41.900002</td>\n",
       "      <td>41.900002</td>\n",
       "      <td>16913051.0</td>\n",
       "      <td>2013</td>\n",
       "    </tr>\n",
       "    <tr>\n",
       "      <th>4</th>\n",
       "      <td>4</td>\n",
       "      <td>41.029999</td>\n",
       "      <td>42.869999</td>\n",
       "      <td>40.759998</td>\n",
       "      <td>42.599998</td>\n",
       "      <td>42.599998</td>\n",
       "      <td>16913051.0</td>\n",
       "      <td>2013</td>\n",
       "    </tr>\n",
       "  </tbody>\n",
       "</table>\n",
       "</div>"
      ],
      "text/plain": [
       "   Date       Open       High        Low      Close  Adj Close      Volume  \\\n",
       "0     0  45.099998  50.090000  44.000000  44.900002  44.900002  16913051.0   \n",
       "1     1  45.930000  46.939999  40.685001  41.650002  41.650002  16913051.0   \n",
       "2     2  40.500000  43.000000  39.400002  42.900002  42.900002  16913051.0   \n",
       "3     3  43.660000  43.779999  41.830002  41.900002  41.900002  16913051.0   \n",
       "4     4  41.029999  42.869999  40.759998  42.599998  42.599998  16913051.0   \n",
       "\n",
       "   Year  \n",
       "0  2013  \n",
       "1  2013  \n",
       "2  2013  \n",
       "3  2013  \n",
       "4  2013  "
      ]
     },
     "execution_count": 19,
     "metadata": {},
     "output_type": "execute_result"
    }
   ],
   "source": [
    "df.head()"
   ]
  },
  {
   "cell_type": "code",
   "execution_count": 20,
   "id": "bc296e0a",
   "metadata": {},
   "outputs": [
    {
     "data": {
      "text/html": [
       "<div>\n",
       "<style scoped>\n",
       "    .dataframe tbody tr th:only-of-type {\n",
       "        vertical-align: middle;\n",
       "    }\n",
       "\n",
       "    .dataframe tbody tr th {\n",
       "        vertical-align: top;\n",
       "    }\n",
       "\n",
       "    .dataframe thead th {\n",
       "        text-align: right;\n",
       "    }\n",
       "</style>\n",
       "<table border=\"1\" class=\"dataframe\">\n",
       "  <thead>\n",
       "    <tr style=\"text-align: right;\">\n",
       "      <th></th>\n",
       "      <th>Date</th>\n",
       "      <th>Open</th>\n",
       "      <th>High</th>\n",
       "      <th>Low</th>\n",
       "      <th>Close</th>\n",
       "      <th>Adj Close</th>\n",
       "      <th>Volume</th>\n",
       "      <th>Year</th>\n",
       "    </tr>\n",
       "  </thead>\n",
       "  <tbody>\n",
       "    <tr>\n",
       "      <th>count</th>\n",
       "      <td>2259.000000</td>\n",
       "      <td>2259.000000</td>\n",
       "      <td>2259.000000</td>\n",
       "      <td>2259.000000</td>\n",
       "      <td>2259.000000</td>\n",
       "      <td>2259.000000</td>\n",
       "      <td>2.259000e+03</td>\n",
       "      <td>2259.000000</td>\n",
       "    </tr>\n",
       "    <tr>\n",
       "      <th>mean</th>\n",
       "      <td>1129.000000</td>\n",
       "      <td>36.020286</td>\n",
       "      <td>36.699881</td>\n",
       "      <td>35.339465</td>\n",
       "      <td>36.003625</td>\n",
       "      <td>36.003625</td>\n",
       "      <td>1.689808e+07</td>\n",
       "      <td>2017.839752</td>\n",
       "    </tr>\n",
       "    <tr>\n",
       "      <th>std</th>\n",
       "      <td>652.261451</td>\n",
       "      <td>14.118463</td>\n",
       "      <td>14.372057</td>\n",
       "      <td>13.828724</td>\n",
       "      <td>14.089989</td>\n",
       "      <td>14.089989</td>\n",
       "      <td>5.031328e+05</td>\n",
       "      <td>2.600503</td>\n",
       "    </tr>\n",
       "    <tr>\n",
       "      <th>min</th>\n",
       "      <td>0.000000</td>\n",
       "      <td>13.950000</td>\n",
       "      <td>14.220000</td>\n",
       "      <td>13.725000</td>\n",
       "      <td>14.010000</td>\n",
       "      <td>14.010000</td>\n",
       "      <td>0.000000e+00</td>\n",
       "      <td>2013.000000</td>\n",
       "    </tr>\n",
       "    <tr>\n",
       "      <th>25%</th>\n",
       "      <td>564.500000</td>\n",
       "      <td>25.550000</td>\n",
       "      <td>26.215001</td>\n",
       "      <td>24.912501</td>\n",
       "      <td>25.410000</td>\n",
       "      <td>25.410000</td>\n",
       "      <td>1.691305e+07</td>\n",
       "      <td>2016.000000</td>\n",
       "    </tr>\n",
       "    <tr>\n",
       "      <th>50%</th>\n",
       "      <td>1129.000000</td>\n",
       "      <td>35.419998</td>\n",
       "      <td>36.099998</td>\n",
       "      <td>34.820000</td>\n",
       "      <td>35.490002</td>\n",
       "      <td>35.490002</td>\n",
       "      <td>1.691305e+07</td>\n",
       "      <td>2018.000000</td>\n",
       "    </tr>\n",
       "    <tr>\n",
       "      <th>75%</th>\n",
       "      <td>1693.500000</td>\n",
       "      <td>44.205000</td>\n",
       "      <td>45.015000</td>\n",
       "      <td>43.327501</td>\n",
       "      <td>44.135000</td>\n",
       "      <td>44.135000</td>\n",
       "      <td>1.691305e+07</td>\n",
       "      <td>2020.000000</td>\n",
       "    </tr>\n",
       "    <tr>\n",
       "      <th>max</th>\n",
       "      <td>2258.000000</td>\n",
       "      <td>78.360001</td>\n",
       "      <td>80.750000</td>\n",
       "      <td>76.050003</td>\n",
       "      <td>77.629997</td>\n",
       "      <td>77.629997</td>\n",
       "      <td>1.691305e+07</td>\n",
       "      <td>2022.000000</td>\n",
       "    </tr>\n",
       "  </tbody>\n",
       "</table>\n",
       "</div>"
      ],
      "text/plain": [
       "              Date         Open         High          Low        Close  \\\n",
       "count  2259.000000  2259.000000  2259.000000  2259.000000  2259.000000   \n",
       "mean   1129.000000    36.020286    36.699881    35.339465    36.003625   \n",
       "std     652.261451    14.118463    14.372057    13.828724    14.089989   \n",
       "min       0.000000    13.950000    14.220000    13.725000    14.010000   \n",
       "25%     564.500000    25.550000    26.215001    24.912501    25.410000   \n",
       "50%    1129.000000    35.419998    36.099998    34.820000    35.490002   \n",
       "75%    1693.500000    44.205000    45.015000    43.327501    44.135000   \n",
       "max    2258.000000    78.360001    80.750000    76.050003    77.629997   \n",
       "\n",
       "         Adj Close        Volume         Year  \n",
       "count  2259.000000  2.259000e+03  2259.000000  \n",
       "mean     36.003625  1.689808e+07  2017.839752  \n",
       "std      14.089989  5.031328e+05     2.600503  \n",
       "min      14.010000  0.000000e+00  2013.000000  \n",
       "25%      25.410000  1.691305e+07  2016.000000  \n",
       "50%      35.490002  1.691305e+07  2018.000000  \n",
       "75%      44.135000  1.691305e+07  2020.000000  \n",
       "max      77.629997  1.691305e+07  2022.000000  "
      ]
     },
     "execution_count": 20,
     "metadata": {},
     "output_type": "execute_result"
    }
   ],
   "source": [
    "df.describe()"
   ]
  },
  {
   "cell_type": "code",
   "execution_count": 21,
   "id": "f2989fbf",
   "metadata": {},
   "outputs": [
    {
     "data": {
      "image/png": "[encoded data removed]",
      "text/plain": [
       "<Figure size 1080x576 with 2 Axes>"
      ]
     },
     "metadata": {
      "needs_background": "light"
     },
     "output_type": "display_data"
    }
   ],
   "source": [
    "plt.figure(figsize=(15,8))\n",
    "sns.heatmap(df.corr(),cmap='Greens', vmax=.8, linewidths=0.01,square=True,annot=True,linecolor=\"white\")\n",
    "plt.show()"
   ]
  },
  {
   "cell_type": "code",
   "execution_count": 22,
   "id": "5dc80522",
   "metadata": {},
   "outputs": [],
   "source": [
    "#train test split\n",
    "from sklearn.model_selection import train_test_split"
   ]
  },
  {
   "cell_type": "code",
   "execution_count": 23,
   "id": "67b68334",
   "metadata": {},
   "outputs": [],
   "source": [
    "#x = df.drop('Volume', axis=1)\n",
    "#y = df['Volume']"
   ]
  },
  {
   "cell_type": "code",
   "execution_count": 24,
   "id": "2c99ff2b",
   "metadata": {},
   "outputs": [
    {
     "name": "stdout",
     "output_type": "stream",
     "text": [
      "LinearRegression Mean Squared Error: 901259681.42\n",
      "LinearRegression R^2 Score: 0.00\n"
     ]
    },
    {
     "data": {
      "image/png": "[encoded data removed]",
      "text/plain": [
       "<Figure size 432x288 with 1 Axes>"
      ]
     },
     "metadata": {
      "needs_background": "light"
     },
     "output_type": "display_data"
    },
    {
     "name": "stdout",
     "output_type": "stream",
     "text": [
      "DecisionTreeRegressor Mean Squared Error: 0.00\n",
      "DecisionTreeRegressor R^2 Score: 1.00\n"
     ]
    },
    {
     "data": {
      "image/png": "[encoded data removed]",
      "text/plain": [
       "<Figure size 432x288 with 1 Axes>"
      ]
     },
     "metadata": {
      "needs_background": "light"
     },
     "output_type": "display_data"
    },
    {
     "name": "stdout",
     "output_type": "stream",
     "text": [
      "RandomForestRegressor Mean Squared Error: 130938081316.83\n",
      "RandomForestRegressor R^2 Score: 0.00\n"
     ]
    },
    {
     "data": {
      "image/png": "[encoded data removed]",
      "text/plain": [
       "<Figure size 432x288 with 1 Axes>"
      ]
     },
     "metadata": {
      "needs_background": "light"
     },
     "output_type": "display_data"
    }
   ],
   "source": [
    "import pandas as pd\n",
    "from sklearn.model_selection import train_test_split\n",
    "from sklearn.linear_model import LinearRegression\n",
    "from sklearn.tree import DecisionTreeRegressor\n",
    "from sklearn.ensemble import RandomForestRegressor\n",
    "from sklearn.metrics import mean_squared_error, r2_score\n",
    "import matplotlib.pyplot as plt\n",
    "\n",
    "# Split data into training and testing sets\n",
    "X = df.drop('Volume', axis=1)\n",
    "y = df['Volume']\n",
    "X_train, X_test, y_train, y_test = train_test_split(X, y, test_size=0.2, random_state=42)\n",
    "\n",
    "# Define a list of models to use\n",
    "models = [LinearRegression(), DecisionTreeRegressor(), RandomForestRegressor()]\n",
    "\n",
    "# Loop through each model and fit it to the training data\n",
    "for model in models:\n",
    "    model.fit(X_train, y_train)\n",
    "\n",
    "    # Make predictions on the test data\n",
    "    y_pred = model.predict(X_test)\n",
    "\n",
    "    # Calculate evaluation metrics\n",
    "    mse = mean_squared_error(y_test, y_pred)\n",
    "    r2 = r2_score(y_test, y_pred)\n",
    "\n",
    "    # Print evaluation metrics\n",
    "    print(f'{model.__class__.__name__} Mean Squared Error: {mse:.2f}')\n",
    "    print(f'{model.__class__.__name__} R^2 Score: {r2:.2f}')\n",
    "\n",
    "    # Plot the accuracy of the model\n",
    "    plt.scatter(y_test, y_pred)\n",
    "    plt.xlabel('True Values')\n",
    "    plt.ylabel('Predictions')\n",
    "    plt.title(f'{model.__class__.__name__} Predictions vs True Values')\n",
    "    plt.show()\n"
   ]
  },
  {
   "cell_type": "code",
   "execution_count": 25,
   "id": "c0ffec5f",
   "metadata": {},
   "outputs": [
    {
     "data": {
      "text/plain": [
       "<AxesSubplot:ylabel='Density'>"
      ]
     },
     "execution_count": 25,
     "metadata": {},
     "output_type": "execute_result"
    },
    {
     "data": {
      "image/png": "[encoded data removed]",
      "text/plain": [
       "<Figure size 432x288 with 1 Axes>"
      ]
     },
     "metadata": {
      "needs_background": "light"
     },
     "output_type": "display_data"
    }
   ],
   "source": [
    "#plotting error\n",
    "sns.distplot(y_pred)"
   ]
  },
  {
   "cell_type": "code",
   "execution_count": null,
   "id": "d18df95d",
   "metadata": {},
   "outputs": [],
   "source": []
  },
  {
   "cell_type": "code",
   "execution_count": null,
   "id": "4161fd08",
   "metadata": {},
   "outputs": [],
   "source": []
  }
 ],
 "metadata": {
  "kernelspec": {
   "display_name": "Python 3 (ipykernel)",
   "language": "python",
   "name": "python3"
  },
  "language_info": {
   "codemirror_mode": {
    "name": "ipython",
    "version": 3
   },
   "file_extension": ".py",
   "mimetype": "text/x-python",
   "name": "python",
   "nbconvert_exporter": "python",
   "pygments_lexer": "ipython3",
   "version": "3.9.12"
  }
 },
 "nbformat": 4,
 "nbformat_minor": 5
}
